{
 "cells": [
  {
   "cell_type": "markdown",
   "metadata": {},
   "source": [
    "# Semana 1 do challenge"
   ]
  },
  {
   "cell_type": "markdown",
   "metadata": {},
   "source": [
    "## Tarefa 1 - Entender quais informações o conjunto de dados possui"
   ]
  },
  {
   "cell_type": "markdown",
   "metadata": {},
   "source": [
    "### Dicionário de dados\n",
    "\n",
    "* `customerID`: número de identificação único de cada cliente\n",
    "* `Churn`: se o cliente deixou ou não a empresa \n",
    "* `gender`: gênero (masculino e feminino) \n",
    "* `SeniorCitizen`: informação sobre um cliente ter ou não idade igual ou maior que 65 anos \n",
    "* `Partner`:  se o cliente possui ou não um parceiro ou parceira\n",
    "* `Dependents`: se o cliente possui ou não dependentes\n",
    "* `tenure`:  meses de contrato do cliente\n",
    "* `PhoneService`: assinatura de serviço telefônico \n",
    "* `MultipleLines`: assisnatura de mais de uma linha de telefone \n",
    "* `InternetService`: assinatura de um provedor internet \n",
    "* `OnlineSecurity`: assinatura adicional de segurança online \n",
    "* `OnlineBackup`: assinatura adicional de backup online \n",
    "* `DeviceProtection`: assinatura adicional de proteção no dispositivo \n",
    "* `TechSupport`: assinatura adicional de suporte técnico, menos tempo de espera\n",
    "* `StreamingTV`: assinatura de TV a cabo \n",
    "* `StreamingMovies`: assinatura de streaming de filmes \n",
    "* `Contract`: tipo de contrato\n",
    "* `PaperlessBilling`: se o cliente prefere receber online a fatura\n",
    "* `PaymentMethod`: forma de pagamento\n",
    "* `Charges.Monthly`: total de todos os serviços do cliente por mês\n",
    "* `Charges.Total`: total gasto pelo cliente"
   ]
  },
  {
   "cell_type": "markdown",
   "metadata": {},
   "source": [
    "### Leitura inicial dos dados"
   ]
  },
  {
   "cell_type": "code",
   "execution_count": 59,
   "metadata": {},
   "outputs": [
    {
     "data": {
      "text/html": [
       "<div>\n",
       "<style scoped>\n",
       "    .dataframe tbody tr th:only-of-type {\n",
       "        vertical-align: middle;\n",
       "    }\n",
       "\n",
       "    .dataframe tbody tr th {\n",
       "        vertical-align: top;\n",
       "    }\n",
       "\n",
       "    .dataframe thead th {\n",
       "        text-align: right;\n",
       "    }\n",
       "</style>\n",
       "<table border=\"1\" class=\"dataframe\">\n",
       "  <thead>\n",
       "    <tr style=\"text-align: right;\">\n",
       "      <th></th>\n",
       "      <th>customerID</th>\n",
       "      <th>Churn</th>\n",
       "      <th>customer</th>\n",
       "      <th>phone</th>\n",
       "      <th>internet</th>\n",
       "      <th>account</th>\n",
       "    </tr>\n",
       "  </thead>\n",
       "  <tbody>\n",
       "    <tr>\n",
       "      <th>0</th>\n",
       "      <td>0002-ORFBO</td>\n",
       "      <td>No</td>\n",
       "      <td>{'gender': 'Female', 'SeniorCitizen': 0, 'Part...</td>\n",
       "      <td>{'PhoneService': 'Yes', 'MultipleLines': 'No'}</td>\n",
       "      <td>{'InternetService': 'DSL', 'OnlineSecurity': '...</td>\n",
       "      <td>{'Contract': 'One year', 'PaperlessBilling': '...</td>\n",
       "    </tr>\n",
       "    <tr>\n",
       "      <th>1</th>\n",
       "      <td>0003-MKNFE</td>\n",
       "      <td>No</td>\n",
       "      <td>{'gender': 'Male', 'SeniorCitizen': 0, 'Partne...</td>\n",
       "      <td>{'PhoneService': 'Yes', 'MultipleLines': 'Yes'}</td>\n",
       "      <td>{'InternetService': 'DSL', 'OnlineSecurity': '...</td>\n",
       "      <td>{'Contract': 'Month-to-month', 'PaperlessBilli...</td>\n",
       "    </tr>\n",
       "    <tr>\n",
       "      <th>2</th>\n",
       "      <td>0004-TLHLJ</td>\n",
       "      <td>Yes</td>\n",
       "      <td>{'gender': 'Male', 'SeniorCitizen': 0, 'Partne...</td>\n",
       "      <td>{'PhoneService': 'Yes', 'MultipleLines': 'No'}</td>\n",
       "      <td>{'InternetService': 'Fiber optic', 'OnlineSecu...</td>\n",
       "      <td>{'Contract': 'Month-to-month', 'PaperlessBilli...</td>\n",
       "    </tr>\n",
       "    <tr>\n",
       "      <th>3</th>\n",
       "      <td>0011-IGKFF</td>\n",
       "      <td>Yes</td>\n",
       "      <td>{'gender': 'Male', 'SeniorCitizen': 1, 'Partne...</td>\n",
       "      <td>{'PhoneService': 'Yes', 'MultipleLines': 'No'}</td>\n",
       "      <td>{'InternetService': 'Fiber optic', 'OnlineSecu...</td>\n",
       "      <td>{'Contract': 'Month-to-month', 'PaperlessBilli...</td>\n",
       "    </tr>\n",
       "    <tr>\n",
       "      <th>4</th>\n",
       "      <td>0013-EXCHZ</td>\n",
       "      <td>Yes</td>\n",
       "      <td>{'gender': 'Female', 'SeniorCitizen': 1, 'Part...</td>\n",
       "      <td>{'PhoneService': 'Yes', 'MultipleLines': 'No'}</td>\n",
       "      <td>{'InternetService': 'Fiber optic', 'OnlineSecu...</td>\n",
       "      <td>{'Contract': 'Month-to-month', 'PaperlessBilli...</td>\n",
       "    </tr>\n",
       "  </tbody>\n",
       "</table>\n",
       "</div>"
      ],
      "text/plain": [
       "   customerID Churn                                           customer  \\\n",
       "0  0002-ORFBO    No  {'gender': 'Female', 'SeniorCitizen': 0, 'Part...   \n",
       "1  0003-MKNFE    No  {'gender': 'Male', 'SeniorCitizen': 0, 'Partne...   \n",
       "2  0004-TLHLJ   Yes  {'gender': 'Male', 'SeniorCitizen': 0, 'Partne...   \n",
       "3  0011-IGKFF   Yes  {'gender': 'Male', 'SeniorCitizen': 1, 'Partne...   \n",
       "4  0013-EXCHZ   Yes  {'gender': 'Female', 'SeniorCitizen': 1, 'Part...   \n",
       "\n",
       "                                             phone  \\\n",
       "0   {'PhoneService': 'Yes', 'MultipleLines': 'No'}   \n",
       "1  {'PhoneService': 'Yes', 'MultipleLines': 'Yes'}   \n",
       "2   {'PhoneService': 'Yes', 'MultipleLines': 'No'}   \n",
       "3   {'PhoneService': 'Yes', 'MultipleLines': 'No'}   \n",
       "4   {'PhoneService': 'Yes', 'MultipleLines': 'No'}   \n",
       "\n",
       "                                            internet  \\\n",
       "0  {'InternetService': 'DSL', 'OnlineSecurity': '...   \n",
       "1  {'InternetService': 'DSL', 'OnlineSecurity': '...   \n",
       "2  {'InternetService': 'Fiber optic', 'OnlineSecu...   \n",
       "3  {'InternetService': 'Fiber optic', 'OnlineSecu...   \n",
       "4  {'InternetService': 'Fiber optic', 'OnlineSecu...   \n",
       "\n",
       "                                             account  \n",
       "0  {'Contract': 'One year', 'PaperlessBilling': '...  \n",
       "1  {'Contract': 'Month-to-month', 'PaperlessBilli...  \n",
       "2  {'Contract': 'Month-to-month', 'PaperlessBilli...  \n",
       "3  {'Contract': 'Month-to-month', 'PaperlessBilli...  \n",
       "4  {'Contract': 'Month-to-month', 'PaperlessBilli...  "
      ]
     },
     "execution_count": 59,
     "metadata": {},
     "output_type": "execute_result"
    }
   ],
   "source": [
    "import pandas as pd\n",
    "pd.set_option(\"display.max_columns\", 100)\n",
    "\n",
    "dados = pd.read_json(\n",
    "    path_or_buf='Telco-Customer-Churn.json',\n",
    "    orient='columns'\n",
    ")\n",
    "dados.head()"
   ]
  },
  {
   "cell_type": "markdown",
   "metadata": {},
   "source": [
    "O dataset possui informaçções gerais do cliente como ID e seu Churn. Há ainda outras quatro listas referentes a caracerísticas do cliente. \n",
    "* customer: Caractéristicas gerais do cliente\n",
    "* phone: Informações sobre a conta telefônica do cliente\n",
    "* internet: Informações da conta de internet do cliente\n",
    "* account: Informações do contrato do cliente"
   ]
  },
  {
   "cell_type": "markdown",
   "metadata": {},
   "source": [
    "### Extraindo conteúdo das colunas\n",
    "\n",
    "O arquivo json será normalizado para um DataFrame do pandas."
   ]
  },
  {
   "cell_type": "code",
   "execution_count": 60,
   "metadata": {},
   "outputs": [],
   "source": [
    "# Extraindo dados das listas do arquivo json\n",
    "\n",
    "customer = pd.json_normalize(data=dados.customer)\n",
    "phone = pd.json_normalize(data=dados.phone)\n",
    "internet = pd.json_normalize(data=dados.internet)\n",
    "account = pd.json_normalize(data=dados.account, sep='_')"
   ]
  },
  {
   "cell_type": "markdown",
   "metadata": {},
   "source": [
    "Concatenando os dados em um único DataFrame"
   ]
  },
  {
   "cell_type": "code",
   "execution_count": 61,
   "metadata": {},
   "outputs": [],
   "source": [
    "dados = pd.concat([dados[['customerID', 'Churn']], customer, phone, internet, account], axis=1) "
   ]
  },
  {
   "cell_type": "markdown",
   "metadata": {},
   "source": [
    "## Tarefa 2 - Analisar quais os tipos de dados"
   ]
  },
  {
   "cell_type": "markdown",
   "metadata": {},
   "source": [
    "Informações sobre as variáveis."
   ]
  },
  {
   "cell_type": "code",
   "execution_count": 62,
   "metadata": {},
   "outputs": [
    {
     "name": "stdout",
     "output_type": "stream",
     "text": [
      "<class 'pandas.core.frame.DataFrame'>\n",
      "RangeIndex: 7267 entries, 0 to 7266\n",
      "Data columns (total 21 columns):\n",
      " #   Column            Non-Null Count  Dtype  \n",
      "---  ------            --------------  -----  \n",
      " 0   customerID        7267 non-null   object \n",
      " 1   Churn             7267 non-null   object \n",
      " 2   gender            7267 non-null   object \n",
      " 3   SeniorCitizen     7267 non-null   int64  \n",
      " 4   Partner           7267 non-null   object \n",
      " 5   Dependents        7267 non-null   object \n",
      " 6   tenure            7267 non-null   int64  \n",
      " 7   PhoneService      7267 non-null   object \n",
      " 8   MultipleLines     7267 non-null   object \n",
      " 9   InternetService   7267 non-null   object \n",
      " 10  OnlineSecurity    7267 non-null   object \n",
      " 11  OnlineBackup      7267 non-null   object \n",
      " 12  DeviceProtection  7267 non-null   object \n",
      " 13  TechSupport       7267 non-null   object \n",
      " 14  StreamingTV       7267 non-null   object \n",
      " 15  StreamingMovies   7267 non-null   object \n",
      " 16  Contract          7267 non-null   object \n",
      " 17  PaperlessBilling  7267 non-null   object \n",
      " 18  PaymentMethod     7267 non-null   object \n",
      " 19  Charges_Monthly   7267 non-null   float64\n",
      " 20  Charges_Total     7267 non-null   object \n",
      "dtypes: float64(1), int64(2), object(18)\n",
      "memory usage: 1.2+ MB\n"
     ]
    }
   ],
   "source": [
    "dados.info()"
   ]
  },
  {
   "cell_type": "markdown",
   "metadata": {},
   "source": [
    "O dataset contém 20 variáveis. Automaticamente a coluna `ternure`foi reconhedida como do tipo inteiro e a coluna `Charges_Monthly` como do tipo float64 as demais foram reconhecidas como object. Porém, a coluna `Charges_Total` também deverá ser reconhecida como do tipo float64, esta correção é feita na próxima secção. "
   ]
  },
  {
   "cell_type": "markdown",
   "metadata": {},
   "source": [
    "A maioria das colunas são variáveis categóricas e as colunas `Charges_Monthly`, `Charges_Total` e `tenure`são numéricas."
   ]
  },
  {
   "cell_type": "markdown",
   "metadata": {},
   "source": [
    "## Tarefa 3 - Verificar quais as inconsistências nos dados"
   ]
  },
  {
   "cell_type": "markdown",
   "metadata": {},
   "source": [
    "Na coluna `Charges_Total` existem células preenchidas com espaços em branco."
   ]
  },
  {
   "cell_type": "code",
   "execution_count": 63,
   "metadata": {},
   "outputs": [
    {
     "data": {
      "text/plain": [
       "(11, 21)"
      ]
     },
     "execution_count": 63,
     "metadata": {},
     "output_type": "execute_result"
    }
   ],
   "source": [
    "dados.query(\"Charges_Total == ' '\").shape"
   ]
  },
  {
   "cell_type": "markdown",
   "metadata": {},
   "source": [
    "Já na coluna `Churn` existe incosistência semelhante porém as células são vazias."
   ]
  },
  {
   "cell_type": "code",
   "execution_count": 64,
   "metadata": {},
   "outputs": [
    {
     "data": {
      "text/plain": [
       "No     5174\n",
       "Yes    1869\n",
       "        224\n",
       "Name: Churn, dtype: int64"
      ]
     },
     "execution_count": 64,
     "metadata": {},
     "output_type": "execute_result"
    }
   ],
   "source": [
    "dados.Churn.value_counts()"
   ]
  },
  {
   "cell_type": "markdown",
   "metadata": {},
   "source": [
    "Na coluna `SeniorCitizen` os valores estão entre 0 e 1 quando deveriam estar como Yes ou No, matendo o padrão das demais colunas."
   ]
  },
  {
   "cell_type": "code",
   "execution_count": 65,
   "metadata": {},
   "outputs": [
    {
     "data": {
      "text/plain": [
       "0    6085\n",
       "1    1182\n",
       "Name: SeniorCitizen, dtype: int64"
      ]
     },
     "execution_count": 65,
     "metadata": {},
     "output_type": "execute_result"
    }
   ],
   "source": [
    "dados.SeniorCitizen.value_counts()"
   ]
  },
  {
   "cell_type": "markdown",
   "metadata": {},
   "source": [
    "Verificando se há dados repetidos"
   ]
  },
  {
   "cell_type": "code",
   "execution_count": 66,
   "metadata": {},
   "outputs": [
    {
     "name": "stdout",
     "output_type": "stream",
     "text": [
      "Quantidade de registros = 7267\n",
      "Quantidade de registros únicos = 7267\n"
     ]
    }
   ],
   "source": [
    "numero_registros_unicos = dados['customerID'].nunique()\n",
    "total_registros = len(dados)\n",
    "\n",
    "print(f'Quantidade de registros = {total_registros}')\n",
    "print(f'Quantidade de registros únicos = {numero_registros_unicos}')\n"
   ]
  },
  {
   "cell_type": "markdown",
   "metadata": {},
   "source": [
    "Portanto não há registros repetidos."
   ]
  },
  {
   "cell_type": "markdown",
   "metadata": {},
   "source": [
    "Verificando se há inconsistência quanto ao serviço telefônico. Neste caso uma inconsistência seria se um cliente que não têm registro telefônico tivesse multiplas linhas telefônicas."
   ]
  },
  {
   "cell_type": "code",
   "execution_count": 67,
   "metadata": {},
   "outputs": [
    {
     "name": "stdout",
     "output_type": "stream",
     "text": [
      "Quantidade de clientes sem linha telefônica = 707\n",
      "Quantidade de clientes sem múltiplas linhas tefefônicas:\n"
     ]
    },
    {
     "data": {
      "text/plain": [
       "No phone service    707\n",
       "Name: MultipleLines, dtype: int64"
      ]
     },
     "execution_count": 67,
     "metadata": {},
     "output_type": "execute_result"
    }
   ],
   "source": [
    "clientes_sem_linha_telefonica = dados.query('PhoneService == \"No\"')\n",
    "numero_clientes_sem_linha_telefonica = len(clientes_sem_linha_telefonica)\n",
    "\n",
    "print(f'Quantidade de clientes sem linha telefônica = {numero_clientes_sem_linha_telefonica}')\n",
    "\n",
    "print('Quantidade de clientes sem múltiplas linhas tefefônicas:')\n",
    "clientes_sem_linha_telefonica['MultipleLines'].value_counts()"
   ]
  },
  {
   "cell_type": "markdown",
   "metadata": {},
   "source": [
    "OK. Não há inconsistência aparente com as linhas telefônicas."
   ]
  },
  {
   "cell_type": "markdown",
   "metadata": {},
   "source": [
    "Da mesma forma será verificada a possível inconsistência relacionada ao serviço de internet. Clientes sem serviço de internet não podem ter os serviços relacionados: OnlineSecurity, OnlineBackup, DeviceProtection,\n",
    "TechSuport, StreamingTV, StreamingMovies."
   ]
  },
  {
   "cell_type": "code",
   "execution_count": 68,
   "metadata": {},
   "outputs": [
    {
     "name": "stdout",
     "output_type": "stream",
     "text": [
      "Quantide de clientes sem serviço de internet = 1581\n",
      "Número de clientes sem os serviços associados a internet:\n"
     ]
    },
    {
     "data": {
      "text/plain": [
       "OnlineSecurity       OnlineBackup         DeviceProtection     TechSupport          StreamingTV          StreamingMovies    \n",
       "No internet service  No internet service  No internet service  No internet service  No internet service  No internet service    1581\n",
       "dtype: int64"
      ]
     },
     "execution_count": 68,
     "metadata": {},
     "output_type": "execute_result"
    }
   ],
   "source": [
    "clientes_sem_servico_internet = dados.query('InternetService == \"No\"')\n",
    "quantidade_clientes_sem_servico_internet = len(clientes_sem_servico_internet)\n",
    "\n",
    "print(f'Quantide de clientes sem serviço de internet = {quantidade_clientes_sem_servico_internet}')\n",
    "print('Número de clientes sem os serviços associados a internet:')\n",
    "\n",
    "clientes_sem_servico_internet[['OnlineSecurity', 'OnlineBackup', 'DeviceProtection', 'TechSupport', 'StreamingTV', 'StreamingMovies']].value_counts()\n"
   ]
  },
  {
   "cell_type": "markdown",
   "metadata": {},
   "source": [
    "Portanto também não há incosistência nesta parte."
   ]
  },
  {
   "cell_type": "markdown",
   "metadata": {},
   "source": [
    "Outra incosistência possível seria valores negativos em algumas das variáveis numéricas. A seguir é verificado isto."
   ]
  },
  {
   "cell_type": "code",
   "execution_count": 69,
   "metadata": {},
   "outputs": [
    {
     "data": {
      "text/html": [
       "<div>\n",
       "<style scoped>\n",
       "    .dataframe tbody tr th:only-of-type {\n",
       "        vertical-align: middle;\n",
       "    }\n",
       "\n",
       "    .dataframe tbody tr th {\n",
       "        vertical-align: top;\n",
       "    }\n",
       "\n",
       "    .dataframe thead th {\n",
       "        text-align: right;\n",
       "    }\n",
       "</style>\n",
       "<table border=\"1\" class=\"dataframe\">\n",
       "  <thead>\n",
       "    <tr style=\"text-align: right;\">\n",
       "      <th></th>\n",
       "      <th>SeniorCitizen</th>\n",
       "      <th>tenure</th>\n",
       "      <th>Charges_Monthly</th>\n",
       "    </tr>\n",
       "  </thead>\n",
       "  <tbody>\n",
       "    <tr>\n",
       "      <th>count</th>\n",
       "      <td>7267.000000</td>\n",
       "      <td>7267.000000</td>\n",
       "      <td>7267.000000</td>\n",
       "    </tr>\n",
       "    <tr>\n",
       "      <th>mean</th>\n",
       "      <td>0.162653</td>\n",
       "      <td>32.346498</td>\n",
       "      <td>64.720098</td>\n",
       "    </tr>\n",
       "    <tr>\n",
       "      <th>std</th>\n",
       "      <td>0.369074</td>\n",
       "      <td>24.571773</td>\n",
       "      <td>30.129572</td>\n",
       "    </tr>\n",
       "    <tr>\n",
       "      <th>min</th>\n",
       "      <td>0.000000</td>\n",
       "      <td>0.000000</td>\n",
       "      <td>18.250000</td>\n",
       "    </tr>\n",
       "    <tr>\n",
       "      <th>25%</th>\n",
       "      <td>0.000000</td>\n",
       "      <td>9.000000</td>\n",
       "      <td>35.425000</td>\n",
       "    </tr>\n",
       "    <tr>\n",
       "      <th>50%</th>\n",
       "      <td>0.000000</td>\n",
       "      <td>29.000000</td>\n",
       "      <td>70.300000</td>\n",
       "    </tr>\n",
       "    <tr>\n",
       "      <th>75%</th>\n",
       "      <td>0.000000</td>\n",
       "      <td>55.000000</td>\n",
       "      <td>89.875000</td>\n",
       "    </tr>\n",
       "    <tr>\n",
       "      <th>max</th>\n",
       "      <td>1.000000</td>\n",
       "      <td>72.000000</td>\n",
       "      <td>118.750000</td>\n",
       "    </tr>\n",
       "  </tbody>\n",
       "</table>\n",
       "</div>"
      ],
      "text/plain": [
       "       SeniorCitizen       tenure  Charges_Monthly\n",
       "count    7267.000000  7267.000000      7267.000000\n",
       "mean        0.162653    32.346498        64.720098\n",
       "std         0.369074    24.571773        30.129572\n",
       "min         0.000000     0.000000        18.250000\n",
       "25%         0.000000     9.000000        35.425000\n",
       "50%         0.000000    29.000000        70.300000\n",
       "75%         0.000000    55.000000        89.875000\n",
       "max         1.000000    72.000000       118.750000"
      ]
     },
     "execution_count": 69,
     "metadata": {},
     "output_type": "execute_result"
    }
   ],
   "source": [
    "dados.describe()"
   ]
  },
  {
   "cell_type": "markdown",
   "metadata": {},
   "source": [
    "Em todas as variáveis numéricas o valor mínimo é zero portanto não há a inconsistência de números negativos. Porém, ainda será necessario ajustar a coluna \"Charges_Total\" que veio como string, Após a transformação dos dados de string para float será verificado novamente se há valores estranhos na coluna."
   ]
  },
  {
   "cell_type": "markdown",
   "metadata": {},
   "source": [
    "## Tarefa 4 - Corrigir as incosistências nos dados"
   ]
  },
  {
   "cell_type": "markdown",
   "metadata": {},
   "source": [
    "Para os dados faltantes na coluna `Charges_Total` irei transformá-los em NaN e os demais em float."
   ]
  },
  {
   "cell_type": "code",
   "execution_count": 70,
   "metadata": {},
   "outputs": [],
   "source": [
    "import numpy as np\n",
    "\n",
    "# Substitui espaços em branco ' ' por NaN e converte os demais casos pra float64\n",
    "dados.Charges_Total = dados.Charges_Total.apply(lambda x: np.nan if x == ' ' else float(x))"
   ]
  },
  {
   "cell_type": "markdown",
   "metadata": {},
   "source": [
    "Verificando se `Charges_Total` contém valores negativos."
   ]
  },
  {
   "cell_type": "code",
   "execution_count": 71,
   "metadata": {},
   "outputs": [
    {
     "data": {
      "text/plain": [
       "18.8"
      ]
     },
     "execution_count": 71,
     "metadata": {},
     "output_type": "execute_result"
    }
   ],
   "source": [
    "dados.Charges_Total.min()"
   ]
  },
  {
   "cell_type": "markdown",
   "metadata": {},
   "source": [
    "Não há valores negativos em `Charges_Total` podemos coninuar."
   ]
  },
  {
   "cell_type": "markdown",
   "metadata": {},
   "source": [
    "Verificando a quantidade de nulos em `Charges_Total`."
   ]
  },
  {
   "cell_type": "code",
   "execution_count": 72,
   "metadata": {},
   "outputs": [
    {
     "data": {
      "text/plain": [
       "11"
      ]
     },
     "execution_count": 72,
     "metadata": {},
     "output_type": "execute_result"
    }
   ],
   "source": [
    "dados.Charges_Total.isna().sum()"
   ]
  },
  {
   "cell_type": "markdown",
   "metadata": {},
   "source": [
    "Descrição dos clientes com valores nulos em `Charges_Total`"
   ]
  },
  {
   "cell_type": "code",
   "execution_count": 73,
   "metadata": {},
   "outputs": [
    {
     "data": {
      "text/html": [
       "<div>\n",
       "<style scoped>\n",
       "    .dataframe tbody tr th:only-of-type {\n",
       "        vertical-align: middle;\n",
       "    }\n",
       "\n",
       "    .dataframe tbody tr th {\n",
       "        vertical-align: top;\n",
       "    }\n",
       "\n",
       "    .dataframe thead th {\n",
       "        text-align: right;\n",
       "    }\n",
       "</style>\n",
       "<table border=\"1\" class=\"dataframe\">\n",
       "  <thead>\n",
       "    <tr style=\"text-align: right;\">\n",
       "      <th></th>\n",
       "      <th>customerID</th>\n",
       "      <th>Churn</th>\n",
       "      <th>gender</th>\n",
       "      <th>SeniorCitizen</th>\n",
       "      <th>Partner</th>\n",
       "      <th>Dependents</th>\n",
       "      <th>tenure</th>\n",
       "      <th>PhoneService</th>\n",
       "      <th>MultipleLines</th>\n",
       "      <th>InternetService</th>\n",
       "      <th>OnlineSecurity</th>\n",
       "      <th>OnlineBackup</th>\n",
       "      <th>DeviceProtection</th>\n",
       "      <th>TechSupport</th>\n",
       "      <th>StreamingTV</th>\n",
       "      <th>StreamingMovies</th>\n",
       "      <th>Contract</th>\n",
       "      <th>PaperlessBilling</th>\n",
       "      <th>PaymentMethod</th>\n",
       "      <th>Charges_Monthly</th>\n",
       "      <th>Charges_Total</th>\n",
       "    </tr>\n",
       "  </thead>\n",
       "  <tbody>\n",
       "    <tr>\n",
       "      <th>975</th>\n",
       "      <td>1371-DWPAZ</td>\n",
       "      <td>No</td>\n",
       "      <td>Female</td>\n",
       "      <td>0</td>\n",
       "      <td>Yes</td>\n",
       "      <td>Yes</td>\n",
       "      <td>0</td>\n",
       "      <td>No</td>\n",
       "      <td>No phone service</td>\n",
       "      <td>DSL</td>\n",
       "      <td>Yes</td>\n",
       "      <td>Yes</td>\n",
       "      <td>Yes</td>\n",
       "      <td>Yes</td>\n",
       "      <td>Yes</td>\n",
       "      <td>No</td>\n",
       "      <td>Two year</td>\n",
       "      <td>No</td>\n",
       "      <td>Credit card (automatic)</td>\n",
       "      <td>56.05</td>\n",
       "      <td>NaN</td>\n",
       "    </tr>\n",
       "    <tr>\n",
       "      <th>1775</th>\n",
       "      <td>2520-SGTTA</td>\n",
       "      <td>No</td>\n",
       "      <td>Female</td>\n",
       "      <td>0</td>\n",
       "      <td>Yes</td>\n",
       "      <td>Yes</td>\n",
       "      <td>0</td>\n",
       "      <td>Yes</td>\n",
       "      <td>No</td>\n",
       "      <td>No</td>\n",
       "      <td>No internet service</td>\n",
       "      <td>No internet service</td>\n",
       "      <td>No internet service</td>\n",
       "      <td>No internet service</td>\n",
       "      <td>No internet service</td>\n",
       "      <td>No internet service</td>\n",
       "      <td>Two year</td>\n",
       "      <td>No</td>\n",
       "      <td>Mailed check</td>\n",
       "      <td>20.00</td>\n",
       "      <td>NaN</td>\n",
       "    </tr>\n",
       "    <tr>\n",
       "      <th>1955</th>\n",
       "      <td>2775-SEFEE</td>\n",
       "      <td>No</td>\n",
       "      <td>Male</td>\n",
       "      <td>0</td>\n",
       "      <td>No</td>\n",
       "      <td>Yes</td>\n",
       "      <td>0</td>\n",
       "      <td>Yes</td>\n",
       "      <td>Yes</td>\n",
       "      <td>DSL</td>\n",
       "      <td>Yes</td>\n",
       "      <td>Yes</td>\n",
       "      <td>No</td>\n",
       "      <td>Yes</td>\n",
       "      <td>No</td>\n",
       "      <td>No</td>\n",
       "      <td>Two year</td>\n",
       "      <td>Yes</td>\n",
       "      <td>Bank transfer (automatic)</td>\n",
       "      <td>61.90</td>\n",
       "      <td>NaN</td>\n",
       "    </tr>\n",
       "    <tr>\n",
       "      <th>2075</th>\n",
       "      <td>2923-ARZLG</td>\n",
       "      <td>No</td>\n",
       "      <td>Male</td>\n",
       "      <td>0</td>\n",
       "      <td>Yes</td>\n",
       "      <td>Yes</td>\n",
       "      <td>0</td>\n",
       "      <td>Yes</td>\n",
       "      <td>No</td>\n",
       "      <td>No</td>\n",
       "      <td>No internet service</td>\n",
       "      <td>No internet service</td>\n",
       "      <td>No internet service</td>\n",
       "      <td>No internet service</td>\n",
       "      <td>No internet service</td>\n",
       "      <td>No internet service</td>\n",
       "      <td>One year</td>\n",
       "      <td>Yes</td>\n",
       "      <td>Mailed check</td>\n",
       "      <td>19.70</td>\n",
       "      <td>NaN</td>\n",
       "    </tr>\n",
       "    <tr>\n",
       "      <th>2232</th>\n",
       "      <td>3115-CZMZD</td>\n",
       "      <td>No</td>\n",
       "      <td>Male</td>\n",
       "      <td>0</td>\n",
       "      <td>No</td>\n",
       "      <td>Yes</td>\n",
       "      <td>0</td>\n",
       "      <td>Yes</td>\n",
       "      <td>No</td>\n",
       "      <td>No</td>\n",
       "      <td>No internet service</td>\n",
       "      <td>No internet service</td>\n",
       "      <td>No internet service</td>\n",
       "      <td>No internet service</td>\n",
       "      <td>No internet service</td>\n",
       "      <td>No internet service</td>\n",
       "      <td>Two year</td>\n",
       "      <td>No</td>\n",
       "      <td>Mailed check</td>\n",
       "      <td>20.25</td>\n",
       "      <td>NaN</td>\n",
       "    </tr>\n",
       "    <tr>\n",
       "      <th>2308</th>\n",
       "      <td>3213-VVOLG</td>\n",
       "      <td>No</td>\n",
       "      <td>Male</td>\n",
       "      <td>0</td>\n",
       "      <td>Yes</td>\n",
       "      <td>Yes</td>\n",
       "      <td>0</td>\n",
       "      <td>Yes</td>\n",
       "      <td>Yes</td>\n",
       "      <td>No</td>\n",
       "      <td>No internet service</td>\n",
       "      <td>No internet service</td>\n",
       "      <td>No internet service</td>\n",
       "      <td>No internet service</td>\n",
       "      <td>No internet service</td>\n",
       "      <td>No internet service</td>\n",
       "      <td>Two year</td>\n",
       "      <td>No</td>\n",
       "      <td>Mailed check</td>\n",
       "      <td>25.35</td>\n",
       "      <td>NaN</td>\n",
       "    </tr>\n",
       "    <tr>\n",
       "      <th>2930</th>\n",
       "      <td>4075-WKNIU</td>\n",
       "      <td>No</td>\n",
       "      <td>Female</td>\n",
       "      <td>0</td>\n",
       "      <td>Yes</td>\n",
       "      <td>Yes</td>\n",
       "      <td>0</td>\n",
       "      <td>Yes</td>\n",
       "      <td>Yes</td>\n",
       "      <td>DSL</td>\n",
       "      <td>No</td>\n",
       "      <td>Yes</td>\n",
       "      <td>Yes</td>\n",
       "      <td>Yes</td>\n",
       "      <td>Yes</td>\n",
       "      <td>No</td>\n",
       "      <td>Two year</td>\n",
       "      <td>No</td>\n",
       "      <td>Mailed check</td>\n",
       "      <td>73.35</td>\n",
       "      <td>NaN</td>\n",
       "    </tr>\n",
       "    <tr>\n",
       "      <th>3134</th>\n",
       "      <td>4367-NUYAO</td>\n",
       "      <td>No</td>\n",
       "      <td>Male</td>\n",
       "      <td>0</td>\n",
       "      <td>Yes</td>\n",
       "      <td>Yes</td>\n",
       "      <td>0</td>\n",
       "      <td>Yes</td>\n",
       "      <td>Yes</td>\n",
       "      <td>No</td>\n",
       "      <td>No internet service</td>\n",
       "      <td>No internet service</td>\n",
       "      <td>No internet service</td>\n",
       "      <td>No internet service</td>\n",
       "      <td>No internet service</td>\n",
       "      <td>No internet service</td>\n",
       "      <td>Two year</td>\n",
       "      <td>No</td>\n",
       "      <td>Mailed check</td>\n",
       "      <td>25.75</td>\n",
       "      <td>NaN</td>\n",
       "    </tr>\n",
       "    <tr>\n",
       "      <th>3203</th>\n",
       "      <td>4472-LVYGI</td>\n",
       "      <td>No</td>\n",
       "      <td>Female</td>\n",
       "      <td>0</td>\n",
       "      <td>Yes</td>\n",
       "      <td>Yes</td>\n",
       "      <td>0</td>\n",
       "      <td>No</td>\n",
       "      <td>No phone service</td>\n",
       "      <td>DSL</td>\n",
       "      <td>Yes</td>\n",
       "      <td>No</td>\n",
       "      <td>Yes</td>\n",
       "      <td>Yes</td>\n",
       "      <td>Yes</td>\n",
       "      <td>No</td>\n",
       "      <td>Two year</td>\n",
       "      <td>Yes</td>\n",
       "      <td>Bank transfer (automatic)</td>\n",
       "      <td>52.55</td>\n",
       "      <td>NaN</td>\n",
       "    </tr>\n",
       "    <tr>\n",
       "      <th>4169</th>\n",
       "      <td>5709-LVOEQ</td>\n",
       "      <td>No</td>\n",
       "      <td>Female</td>\n",
       "      <td>0</td>\n",
       "      <td>Yes</td>\n",
       "      <td>Yes</td>\n",
       "      <td>0</td>\n",
       "      <td>Yes</td>\n",
       "      <td>No</td>\n",
       "      <td>DSL</td>\n",
       "      <td>Yes</td>\n",
       "      <td>Yes</td>\n",
       "      <td>Yes</td>\n",
       "      <td>No</td>\n",
       "      <td>Yes</td>\n",
       "      <td>Yes</td>\n",
       "      <td>Two year</td>\n",
       "      <td>No</td>\n",
       "      <td>Mailed check</td>\n",
       "      <td>80.85</td>\n",
       "      <td>NaN</td>\n",
       "    </tr>\n",
       "    <tr>\n",
       "      <th>5599</th>\n",
       "      <td>7644-OMVMY</td>\n",
       "      <td>No</td>\n",
       "      <td>Male</td>\n",
       "      <td>0</td>\n",
       "      <td>Yes</td>\n",
       "      <td>Yes</td>\n",
       "      <td>0</td>\n",
       "      <td>Yes</td>\n",
       "      <td>No</td>\n",
       "      <td>No</td>\n",
       "      <td>No internet service</td>\n",
       "      <td>No internet service</td>\n",
       "      <td>No internet service</td>\n",
       "      <td>No internet service</td>\n",
       "      <td>No internet service</td>\n",
       "      <td>No internet service</td>\n",
       "      <td>Two year</td>\n",
       "      <td>No</td>\n",
       "      <td>Mailed check</td>\n",
       "      <td>19.85</td>\n",
       "      <td>NaN</td>\n",
       "    </tr>\n",
       "  </tbody>\n",
       "</table>\n",
       "</div>"
      ],
      "text/plain": [
       "      customerID Churn  gender  SeniorCitizen Partner Dependents  tenure  \\\n",
       "975   1371-DWPAZ    No  Female              0     Yes        Yes       0   \n",
       "1775  2520-SGTTA    No  Female              0     Yes        Yes       0   \n",
       "1955  2775-SEFEE    No    Male              0      No        Yes       0   \n",
       "2075  2923-ARZLG    No    Male              0     Yes        Yes       0   \n",
       "2232  3115-CZMZD    No    Male              0      No        Yes       0   \n",
       "2308  3213-VVOLG    No    Male              0     Yes        Yes       0   \n",
       "2930  4075-WKNIU    No  Female              0     Yes        Yes       0   \n",
       "3134  4367-NUYAO    No    Male              0     Yes        Yes       0   \n",
       "3203  4472-LVYGI    No  Female              0     Yes        Yes       0   \n",
       "4169  5709-LVOEQ    No  Female              0     Yes        Yes       0   \n",
       "5599  7644-OMVMY    No    Male              0     Yes        Yes       0   \n",
       "\n",
       "     PhoneService     MultipleLines InternetService       OnlineSecurity  \\\n",
       "975            No  No phone service             DSL                  Yes   \n",
       "1775          Yes                No              No  No internet service   \n",
       "1955          Yes               Yes             DSL                  Yes   \n",
       "2075          Yes                No              No  No internet service   \n",
       "2232          Yes                No              No  No internet service   \n",
       "2308          Yes               Yes              No  No internet service   \n",
       "2930          Yes               Yes             DSL                   No   \n",
       "3134          Yes               Yes              No  No internet service   \n",
       "3203           No  No phone service             DSL                  Yes   \n",
       "4169          Yes                No             DSL                  Yes   \n",
       "5599          Yes                No              No  No internet service   \n",
       "\n",
       "             OnlineBackup     DeviceProtection          TechSupport  \\\n",
       "975                   Yes                  Yes                  Yes   \n",
       "1775  No internet service  No internet service  No internet service   \n",
       "1955                  Yes                   No                  Yes   \n",
       "2075  No internet service  No internet service  No internet service   \n",
       "2232  No internet service  No internet service  No internet service   \n",
       "2308  No internet service  No internet service  No internet service   \n",
       "2930                  Yes                  Yes                  Yes   \n",
       "3134  No internet service  No internet service  No internet service   \n",
       "3203                   No                  Yes                  Yes   \n",
       "4169                  Yes                  Yes                   No   \n",
       "5599  No internet service  No internet service  No internet service   \n",
       "\n",
       "              StreamingTV      StreamingMovies  Contract PaperlessBilling  \\\n",
       "975                   Yes                   No  Two year               No   \n",
       "1775  No internet service  No internet service  Two year               No   \n",
       "1955                   No                   No  Two year              Yes   \n",
       "2075  No internet service  No internet service  One year              Yes   \n",
       "2232  No internet service  No internet service  Two year               No   \n",
       "2308  No internet service  No internet service  Two year               No   \n",
       "2930                  Yes                   No  Two year               No   \n",
       "3134  No internet service  No internet service  Two year               No   \n",
       "3203                  Yes                   No  Two year              Yes   \n",
       "4169                  Yes                  Yes  Two year               No   \n",
       "5599  No internet service  No internet service  Two year               No   \n",
       "\n",
       "                  PaymentMethod  Charges_Monthly  Charges_Total  \n",
       "975     Credit card (automatic)            56.05            NaN  \n",
       "1775               Mailed check            20.00            NaN  \n",
       "1955  Bank transfer (automatic)            61.90            NaN  \n",
       "2075               Mailed check            19.70            NaN  \n",
       "2232               Mailed check            20.25            NaN  \n",
       "2308               Mailed check            25.35            NaN  \n",
       "2930               Mailed check            73.35            NaN  \n",
       "3134               Mailed check            25.75            NaN  \n",
       "3203  Bank transfer (automatic)            52.55            NaN  \n",
       "4169               Mailed check            80.85            NaN  \n",
       "5599               Mailed check            19.85            NaN  "
      ]
     },
     "execution_count": 73,
     "metadata": {},
     "output_type": "execute_result"
    }
   ],
   "source": [
    "dados.loc[dados.Charges_Total.isna()]"
   ]
  },
  {
   "cell_type": "markdown",
   "metadata": {},
   "source": [
    "Os clientes com `Charges_Total` ingual a NaN têm um tempo de permanência igual a zero, ou seja, desisistiram do contrato antes de completarem um mês de contrato. Assim os valores nulos de `Charges_Total` serão substituídos pelo valor do gasto mensal `Charges_Monthly`."
   ]
  },
  {
   "cell_type": "code",
   "execution_count": 74,
   "metadata": {},
   "outputs": [
    {
     "data": {
      "text/html": [
       "<div>\n",
       "<style scoped>\n",
       "    .dataframe tbody tr th:only-of-type {\n",
       "        vertical-align: middle;\n",
       "    }\n",
       "\n",
       "    .dataframe tbody tr th {\n",
       "        vertical-align: top;\n",
       "    }\n",
       "\n",
       "    .dataframe thead th {\n",
       "        text-align: right;\n",
       "    }\n",
       "</style>\n",
       "<table border=\"1\" class=\"dataframe\">\n",
       "  <thead>\n",
       "    <tr style=\"text-align: right;\">\n",
       "      <th></th>\n",
       "      <th>Charges_Total</th>\n",
       "      <th>Charges_Monthly</th>\n",
       "      <th>tenure</th>\n",
       "    </tr>\n",
       "  </thead>\n",
       "  <tbody>\n",
       "    <tr>\n",
       "      <th>975</th>\n",
       "      <td>56.05</td>\n",
       "      <td>56.05</td>\n",
       "      <td>0</td>\n",
       "    </tr>\n",
       "    <tr>\n",
       "      <th>1775</th>\n",
       "      <td>20.00</td>\n",
       "      <td>20.00</td>\n",
       "      <td>0</td>\n",
       "    </tr>\n",
       "    <tr>\n",
       "      <th>1955</th>\n",
       "      <td>61.90</td>\n",
       "      <td>61.90</td>\n",
       "      <td>0</td>\n",
       "    </tr>\n",
       "    <tr>\n",
       "      <th>2075</th>\n",
       "      <td>19.70</td>\n",
       "      <td>19.70</td>\n",
       "      <td>0</td>\n",
       "    </tr>\n",
       "    <tr>\n",
       "      <th>2232</th>\n",
       "      <td>20.25</td>\n",
       "      <td>20.25</td>\n",
       "      <td>0</td>\n",
       "    </tr>\n",
       "    <tr>\n",
       "      <th>2308</th>\n",
       "      <td>25.35</td>\n",
       "      <td>25.35</td>\n",
       "      <td>0</td>\n",
       "    </tr>\n",
       "    <tr>\n",
       "      <th>2930</th>\n",
       "      <td>73.35</td>\n",
       "      <td>73.35</td>\n",
       "      <td>0</td>\n",
       "    </tr>\n",
       "    <tr>\n",
       "      <th>3134</th>\n",
       "      <td>25.75</td>\n",
       "      <td>25.75</td>\n",
       "      <td>0</td>\n",
       "    </tr>\n",
       "    <tr>\n",
       "      <th>3203</th>\n",
       "      <td>52.55</td>\n",
       "      <td>52.55</td>\n",
       "      <td>0</td>\n",
       "    </tr>\n",
       "    <tr>\n",
       "      <th>4169</th>\n",
       "      <td>80.85</td>\n",
       "      <td>80.85</td>\n",
       "      <td>0</td>\n",
       "    </tr>\n",
       "    <tr>\n",
       "      <th>5599</th>\n",
       "      <td>19.85</td>\n",
       "      <td>19.85</td>\n",
       "      <td>0</td>\n",
       "    </tr>\n",
       "  </tbody>\n",
       "</table>\n",
       "</div>"
      ],
      "text/plain": [
       "      Charges_Total  Charges_Monthly  tenure\n",
       "975           56.05            56.05       0\n",
       "1775          20.00            20.00       0\n",
       "1955          61.90            61.90       0\n",
       "2075          19.70            19.70       0\n",
       "2232          20.25            20.25       0\n",
       "2308          25.35            25.35       0\n",
       "2930          73.35            73.35       0\n",
       "3134          25.75            25.75       0\n",
       "3203          52.55            52.55       0\n",
       "4169          80.85            80.85       0\n",
       "5599          19.85            19.85       0"
      ]
     },
     "execution_count": 74,
     "metadata": {},
     "output_type": "execute_result"
    }
   ],
   "source": [
    "idx_na = dados.Charges_Total.isna()\n",
    "dados.loc[idx_na, 'Charges_Total'] = dados.loc[idx_na, \"Charges_Monthly\"]\n",
    "dados.query('tenure == 0')[['Charges_Total', 'Charges_Monthly', 'tenure']]"
   ]
  },
  {
   "cell_type": "markdown",
   "metadata": {},
   "source": [
    "De forma semelhante será feito na coluna de `Churn`."
   ]
  },
  {
   "cell_type": "code",
   "execution_count": 75,
   "metadata": {},
   "outputs": [],
   "source": [
    "# Caso haja valor vazio substitui por NaN caso contrário mantém o valor\n",
    "dados.Churn = dados.Churn.apply(lambda x: np.nan if x == \"\" else x)"
   ]
  },
  {
   "cell_type": "markdown",
   "metadata": {},
   "source": [
    "Verificando a quantidade de nulos em `Churn`."
   ]
  },
  {
   "cell_type": "code",
   "execution_count": 76,
   "metadata": {},
   "outputs": [
    {
     "data": {
      "text/plain": [
       "224"
      ]
     },
     "execution_count": 76,
     "metadata": {},
     "output_type": "execute_result"
    }
   ],
   "source": [
    "dados.Churn.isna().sum()"
   ]
  },
  {
   "cell_type": "markdown",
   "metadata": {},
   "source": [
    "Checando se existem valores vazios nas demais colunas."
   ]
  },
  {
   "cell_type": "code",
   "execution_count": 77,
   "metadata": {},
   "outputs": [],
   "source": [
    "for column in dados.columns:\n",
    "    if len(dados.query(f'{column} == \"\"')):\n",
    "        print(dados.query(f'{column} == \"\"'))\n",
    "    if len(dados.query(f'{column} == \" \"')):\n",
    "        print(dados.query(f'{column} == \" \"'))"
   ]
  },
  {
   "cell_type": "markdown",
   "metadata": {},
   "source": [
    "Não há mais dados vazios."
   ]
  },
  {
   "cell_type": "markdown",
   "metadata": {},
   "source": [
    "Mudando os valores 0 e 1 da `SeniorCitizen' para Yes ou No"
   ]
  },
  {
   "cell_type": "code",
   "execution_count": 78,
   "metadata": {},
   "outputs": [
    {
     "data": {
      "text/plain": [
       "No     6085\n",
       "Yes    1182\n",
       "Name: SeniorCitizen, dtype: int64"
      ]
     },
     "execution_count": 78,
     "metadata": {},
     "output_type": "execute_result"
    }
   ],
   "source": [
    "map_seniors = {0:'No', 1:'Yes'}\n",
    "dados.SeniorCitizen.replace(map_seniors, inplace=True)\n",
    "\n",
    "dados.SeniorCitizen.value_counts()"
   ]
  },
  {
   "cell_type": "markdown",
   "metadata": {},
   "source": [
    "Total de linhas contendo valores nulos na coluna `Churn`."
   ]
  },
  {
   "cell_type": "code",
   "execution_count": 79,
   "metadata": {},
   "outputs": [
    {
     "name": "stdout",
     "output_type": "stream",
     "text": [
      "Total =  customerID            0\n",
      "Churn               224\n",
      "gender                0\n",
      "SeniorCitizen         0\n",
      "Partner               0\n",
      "Dependents            0\n",
      "tenure                0\n",
      "PhoneService          0\n",
      "MultipleLines         0\n",
      "InternetService       0\n",
      "OnlineSecurity        0\n",
      "OnlineBackup          0\n",
      "DeviceProtection      0\n",
      "TechSupport           0\n",
      "StreamingTV           0\n",
      "StreamingMovies       0\n",
      "Contract              0\n",
      "PaperlessBilling      0\n",
      "PaymentMethod         0\n",
      "Charges_Monthly       0\n",
      "Charges_Total         0\n",
      "dtype: int64\n"
     ]
    }
   ],
   "source": [
    "total_linhas_com_nulos = dados.isna().sum()\n",
    "print('Total = ', total_linhas_com_nulos)"
   ]
  },
  {
   "cell_type": "markdown",
   "metadata": {},
   "source": [
    "Como existe uma pequena quantidade de dados nulos, quando comparamos com o tamanho da base de dados, as linhas com valores nulos na coluna `Churn` poderão ser removidas sem grades prejuízos para análises futuras."
   ]
  },
  {
   "cell_type": "markdown",
   "metadata": {},
   "source": [
    "Removendo valores nulos da base de dados."
   ]
  },
  {
   "cell_type": "code",
   "execution_count": 80,
   "metadata": {},
   "outputs": [
    {
     "name": "stdout",
     "output_type": "stream",
     "text": [
      "Quantidade de registros antes da remoção dos valores nulos 7267\n",
      "Quantidade de registros depois da remoção das linhas com valores nulos 7043\n",
      "Porcentagem de registros removidos -3.08%\n"
     ]
    }
   ],
   "source": [
    "numero_registros_inicial = dados.shape[0]\n",
    "dados.dropna(subset=['Churn'], inplace=True)\n",
    "numero_registros_final = dados.shape[0]\n",
    "variacao_percentual = (numero_registros_final - numero_registros_inicial) / numero_registros_inicial * 100\n",
    "print(\"Quantidade de registros antes da remoção dos valores nulos\", numero_registros_inicial)\n",
    "print(\"Quantidade de registros depois da remoção das linhas com valores nulos\",numero_registros_final)\n",
    "print(f\"Porcentagem de registros removidos {variacao_percentual:.2f}%\")\n"
   ]
  },
  {
   "cell_type": "markdown",
   "metadata": {},
   "source": [
    "Apenas 3,08% dos registros orignias foram perdidos no processo."
   ]
  },
  {
   "cell_type": "markdown",
   "metadata": {},
   "source": [
    "## Tarefa 5 - Traduzir os dados"
   ]
  },
  {
   "cell_type": "markdown",
   "metadata": {},
   "source": [
    "Primeiro passo será substituir as ocorrências de Yes e No por Sim e Não respectivamente"
   ]
  },
  {
   "cell_type": "code",
   "execution_count": 81,
   "metadata": {},
   "outputs": [],
   "source": [
    "yes_no = {'Yes': 'Sim', 'No':'Não'}\n",
    "\n",
    "colunas_yes_no = ['Churn', 'SeniorCitizen', 'Partner', 'Dependents', 'PhoneService', 'MultipleLines', 'InternetService',\n",
    "                     'OnlineSecurity', 'OnlineBackup', 'DeviceProtection', 'TechSupport', \n",
    "                     'StreamingTV', 'StreamingMovies', 'PaperlessBilling']\n",
    "\n",
    "for coluna in colunas_yes_no:\n",
    "    dados[coluna].replace(yes_no, inplace=True)"
   ]
  },
  {
   "cell_type": "markdown",
   "metadata": {},
   "source": [
    "Na sequência é feita a tradução dos gêneros."
   ]
  },
  {
   "cell_type": "code",
   "execution_count": 82,
   "metadata": {},
   "outputs": [
    {
     "data": {
      "text/plain": [
       "Masculino    3555\n",
       "Feminino     3488\n",
       "Name: gender, dtype: int64"
      ]
     },
     "execution_count": 82,
     "metadata": {},
     "output_type": "execute_result"
    }
   ],
   "source": [
    "male_female = {'Male':'Masculino', 'Female':'Feminino'}\n",
    "\n",
    "dados.gender.replace(male_female, inplace=True)\n",
    "dados.gender.value_counts()"
   ]
  },
  {
   "cell_type": "markdown",
   "metadata": {},
   "source": [
    "Tradução dos registros sem serviço de telefone. Como `No phone service` significa o mesmo que `No` será traduzido como `Não` para simplificar análises futuras."
   ]
  },
  {
   "cell_type": "code",
   "execution_count": 83,
   "metadata": {},
   "outputs": [],
   "source": [
    "dados.PhoneService.replace('No phone service', 'Não', inplace=True)\n",
    "dados.MultipleLines.replace('No phone service', 'Não', inplace=True)"
   ]
  },
  {
   "cell_type": "markdown",
   "metadata": {},
   "source": [
    "Tradução dos serviços de internet."
   ]
  },
  {
   "cell_type": "code",
   "execution_count": 84,
   "metadata": {},
   "outputs": [],
   "source": [
    "dados.InternetService.replace('Fiber optic', 'Fibra Óptica', inplace=True)"
   ]
  },
  {
   "cell_type": "markdown",
   "metadata": {},
   "source": [
    "Tradução dos contratos."
   ]
  },
  {
   "cell_type": "code",
   "execution_count": 85,
   "metadata": {},
   "outputs": [
    {
     "data": {
      "text/plain": [
       "Mensal       3875\n",
       "Dois anos    1695\n",
       "Um ano       1473\n",
       "Name: Contract, dtype: int64"
      ]
     },
     "execution_count": 85,
     "metadata": {},
     "output_type": "execute_result"
    }
   ],
   "source": [
    "contratos = {'Month-to-month' : 'Mensal', 'Two year': 'Dois anos', 'One year': 'Um ano'}\n",
    "dados.Contract.replace(contratos, inplace=True)\n",
    "dados.Contract.value_counts()"
   ]
  },
  {
   "cell_type": "markdown",
   "metadata": {},
   "source": [
    "Tradução dos métodos de pagamento."
   ]
  },
  {
   "cell_type": "code",
   "execution_count": 86,
   "metadata": {},
   "outputs": [
    {
     "data": {
      "text/plain": [
       "Cheque eletrônico         2365\n",
       "Cheque                    1612\n",
       "Transferência bancária    1544\n",
       "Cartão de crédito         1522\n",
       "Name: PaymentMethod, dtype: int64"
      ]
     },
     "execution_count": 86,
     "metadata": {},
     "output_type": "execute_result"
    }
   ],
   "source": [
    "metodo_pagamento = {'Electronic check': 'Cheque eletrônico', 'Mailed check':'Cheque',\n",
    "                    'Bank transfer (automatic)': 'Transferência bancária',\n",
    "                    'Credit card (automatic)': 'Cartão de crédito'}\n",
    "\n",
    "dados.PaymentMethod.replace(metodo_pagamento, inplace=True)\n",
    "dados.PaymentMethod.value_counts()"
   ]
  },
  {
   "cell_type": "markdown",
   "metadata": {},
   "source": [
    "Tradução dos registros sem serviço de internet. Da mesmo forma que nos registros sem linha telefônica `No Internet service` será traduzido como `Não` para simplificar análises futuras."
   ]
  },
  {
   "cell_type": "code",
   "execution_count": 87,
   "metadata": {},
   "outputs": [],
   "source": [
    "sem_internet = {'No internet service': 'Não'}\n",
    "colunas = ['OnlineSecurity', 'OnlineBackup', 'DeviceProtection', 'TechSupport', 'StreamingTV',\n",
    "            'StreamingMovies']\n",
    "\n",
    "for coluna in colunas:\n",
    "    dados[coluna].replace(sem_internet, inplace=True)"
   ]
  },
  {
   "cell_type": "markdown",
   "metadata": {},
   "source": [
    "Tradução das colunas"
   ]
  },
  {
   "cell_type": "code",
   "execution_count": 88,
   "metadata": {},
   "outputs": [
    {
     "data": {
      "text/html": [
       "<div>\n",
       "<style scoped>\n",
       "    .dataframe tbody tr th:only-of-type {\n",
       "        vertical-align: middle;\n",
       "    }\n",
       "\n",
       "    .dataframe tbody tr th {\n",
       "        vertical-align: top;\n",
       "    }\n",
       "\n",
       "    .dataframe thead th {\n",
       "        text-align: right;\n",
       "    }\n",
       "</style>\n",
       "<table border=\"1\" class=\"dataframe\">\n",
       "  <thead>\n",
       "    <tr style=\"text-align: right;\">\n",
       "      <th></th>\n",
       "      <th>ID_cliente</th>\n",
       "      <th>churn</th>\n",
       "      <th>genero</th>\n",
       "      <th>senior</th>\n",
       "      <th>parceiro</th>\n",
       "      <th>dependentes</th>\n",
       "      <th>tempo_permanencia</th>\n",
       "      <th>servico_telefone</th>\n",
       "      <th>multiplas_linhas</th>\n",
       "      <th>servico_internet</th>\n",
       "      <th>seguranca_online</th>\n",
       "      <th>backup_online</th>\n",
       "      <th>protecao_dispositivo</th>\n",
       "      <th>suporte_tecnico</th>\n",
       "      <th>streaming_TV</th>\n",
       "      <th>streaming_filmes</th>\n",
       "      <th>contrato</th>\n",
       "      <th>fatura_online</th>\n",
       "      <th>metodo_pagamento</th>\n",
       "      <th>gastos_mensais</th>\n",
       "      <th>gastos_totais</th>\n",
       "    </tr>\n",
       "  </thead>\n",
       "  <tbody>\n",
       "    <tr>\n",
       "      <th>0</th>\n",
       "      <td>0002-ORFBO</td>\n",
       "      <td>Não</td>\n",
       "      <td>Feminino</td>\n",
       "      <td>Não</td>\n",
       "      <td>Sim</td>\n",
       "      <td>Sim</td>\n",
       "      <td>9</td>\n",
       "      <td>Sim</td>\n",
       "      <td>Não</td>\n",
       "      <td>DSL</td>\n",
       "      <td>Não</td>\n",
       "      <td>Sim</td>\n",
       "      <td>Não</td>\n",
       "      <td>Sim</td>\n",
       "      <td>Sim</td>\n",
       "      <td>Não</td>\n",
       "      <td>Um ano</td>\n",
       "      <td>Sim</td>\n",
       "      <td>Cheque</td>\n",
       "      <td>65.6</td>\n",
       "      <td>593.30</td>\n",
       "    </tr>\n",
       "    <tr>\n",
       "      <th>1</th>\n",
       "      <td>0003-MKNFE</td>\n",
       "      <td>Não</td>\n",
       "      <td>Masculino</td>\n",
       "      <td>Não</td>\n",
       "      <td>Não</td>\n",
       "      <td>Não</td>\n",
       "      <td>9</td>\n",
       "      <td>Sim</td>\n",
       "      <td>Sim</td>\n",
       "      <td>DSL</td>\n",
       "      <td>Não</td>\n",
       "      <td>Não</td>\n",
       "      <td>Não</td>\n",
       "      <td>Não</td>\n",
       "      <td>Não</td>\n",
       "      <td>Sim</td>\n",
       "      <td>Mensal</td>\n",
       "      <td>Não</td>\n",
       "      <td>Cheque</td>\n",
       "      <td>59.9</td>\n",
       "      <td>542.40</td>\n",
       "    </tr>\n",
       "    <tr>\n",
       "      <th>2</th>\n",
       "      <td>0004-TLHLJ</td>\n",
       "      <td>Sim</td>\n",
       "      <td>Masculino</td>\n",
       "      <td>Não</td>\n",
       "      <td>Não</td>\n",
       "      <td>Não</td>\n",
       "      <td>4</td>\n",
       "      <td>Sim</td>\n",
       "      <td>Não</td>\n",
       "      <td>Fibra Óptica</td>\n",
       "      <td>Não</td>\n",
       "      <td>Não</td>\n",
       "      <td>Sim</td>\n",
       "      <td>Não</td>\n",
       "      <td>Não</td>\n",
       "      <td>Não</td>\n",
       "      <td>Mensal</td>\n",
       "      <td>Sim</td>\n",
       "      <td>Cheque eletrônico</td>\n",
       "      <td>73.9</td>\n",
       "      <td>280.85</td>\n",
       "    </tr>\n",
       "    <tr>\n",
       "      <th>3</th>\n",
       "      <td>0011-IGKFF</td>\n",
       "      <td>Sim</td>\n",
       "      <td>Masculino</td>\n",
       "      <td>Sim</td>\n",
       "      <td>Sim</td>\n",
       "      <td>Não</td>\n",
       "      <td>13</td>\n",
       "      <td>Sim</td>\n",
       "      <td>Não</td>\n",
       "      <td>Fibra Óptica</td>\n",
       "      <td>Não</td>\n",
       "      <td>Sim</td>\n",
       "      <td>Sim</td>\n",
       "      <td>Não</td>\n",
       "      <td>Sim</td>\n",
       "      <td>Sim</td>\n",
       "      <td>Mensal</td>\n",
       "      <td>Sim</td>\n",
       "      <td>Cheque eletrônico</td>\n",
       "      <td>98.0</td>\n",
       "      <td>1237.85</td>\n",
       "    </tr>\n",
       "    <tr>\n",
       "      <th>4</th>\n",
       "      <td>0013-EXCHZ</td>\n",
       "      <td>Sim</td>\n",
       "      <td>Feminino</td>\n",
       "      <td>Sim</td>\n",
       "      <td>Sim</td>\n",
       "      <td>Não</td>\n",
       "      <td>3</td>\n",
       "      <td>Sim</td>\n",
       "      <td>Não</td>\n",
       "      <td>Fibra Óptica</td>\n",
       "      <td>Não</td>\n",
       "      <td>Não</td>\n",
       "      <td>Não</td>\n",
       "      <td>Sim</td>\n",
       "      <td>Sim</td>\n",
       "      <td>Não</td>\n",
       "      <td>Mensal</td>\n",
       "      <td>Sim</td>\n",
       "      <td>Cheque</td>\n",
       "      <td>83.9</td>\n",
       "      <td>267.40</td>\n",
       "    </tr>\n",
       "  </tbody>\n",
       "</table>\n",
       "</div>"
      ],
      "text/plain": [
       "   ID_cliente churn     genero senior parceiro dependentes  tempo_permanencia  \\\n",
       "0  0002-ORFBO   Não   Feminino    Não      Sim         Sim                  9   \n",
       "1  0003-MKNFE   Não  Masculino    Não      Não         Não                  9   \n",
       "2  0004-TLHLJ   Sim  Masculino    Não      Não         Não                  4   \n",
       "3  0011-IGKFF   Sim  Masculino    Sim      Sim         Não                 13   \n",
       "4  0013-EXCHZ   Sim   Feminino    Sim      Sim         Não                  3   \n",
       "\n",
       "  servico_telefone multiplas_linhas servico_internet seguranca_online  \\\n",
       "0              Sim              Não              DSL              Não   \n",
       "1              Sim              Sim              DSL              Não   \n",
       "2              Sim              Não     Fibra Óptica              Não   \n",
       "3              Sim              Não     Fibra Óptica              Não   \n",
       "4              Sim              Não     Fibra Óptica              Não   \n",
       "\n",
       "  backup_online protecao_dispositivo suporte_tecnico streaming_TV  \\\n",
       "0           Sim                  Não             Sim          Sim   \n",
       "1           Não                  Não             Não          Não   \n",
       "2           Não                  Sim             Não          Não   \n",
       "3           Sim                  Sim             Não          Sim   \n",
       "4           Não                  Não             Sim          Sim   \n",
       "\n",
       "  streaming_filmes contrato fatura_online   metodo_pagamento  gastos_mensais  \\\n",
       "0              Não   Um ano           Sim             Cheque            65.6   \n",
       "1              Sim   Mensal           Não             Cheque            59.9   \n",
       "2              Não   Mensal           Sim  Cheque eletrônico            73.9   \n",
       "3              Sim   Mensal           Sim  Cheque eletrônico            98.0   \n",
       "4              Não   Mensal           Sim             Cheque            83.9   \n",
       "\n",
       "   gastos_totais  \n",
       "0         593.30  \n",
       "1         542.40  \n",
       "2         280.85  \n",
       "3        1237.85  \n",
       "4         267.40  "
      ]
     },
     "execution_count": 88,
     "metadata": {},
     "output_type": "execute_result"
    }
   ],
   "source": [
    "novos_nomes_colunas = ['ID_cliente', 'churn', 'genero', 'senior', 'parceiro', 'dependentes', 'tempo_permanencia',\n",
    "                        'servico_telefone', 'multiplas_linhas', 'servico_internet', 'seguranca_online',\n",
    "                        'backup_online', 'protecao_dispositivo', 'suporte_tecnico', 'streaming_TV',\n",
    "                        'streaming_filmes', 'contrato', 'fatura_online', 'metodo_pagamento',\n",
    "                        'gastos_mensais', 'gastos_totais']\n",
    "\n",
    "dados.columns = novos_nomes_colunas\n",
    "dados.head()"
   ]
  },
  {
   "cell_type": "markdown",
   "metadata": {},
   "source": [
    "## Tarefa 6 - Criar coluna de contas diárias"
   ]
  },
  {
   "cell_type": "code",
   "execution_count": 89,
   "metadata": {},
   "outputs": [],
   "source": [
    "dados['gastos_diarios'] = dados.gastos_mensais / 30"
   ]
  },
  {
   "cell_type": "code",
   "execution_count": 90,
   "metadata": {},
   "outputs": [
    {
     "data": {
      "text/html": [
       "<div>\n",
       "<style scoped>\n",
       "    .dataframe tbody tr th:only-of-type {\n",
       "        vertical-align: middle;\n",
       "    }\n",
       "\n",
       "    .dataframe tbody tr th {\n",
       "        vertical-align: top;\n",
       "    }\n",
       "\n",
       "    .dataframe thead th {\n",
       "        text-align: right;\n",
       "    }\n",
       "</style>\n",
       "<table border=\"1\" class=\"dataframe\">\n",
       "  <thead>\n",
       "    <tr style=\"text-align: right;\">\n",
       "      <th></th>\n",
       "      <th>ID_cliente</th>\n",
       "      <th>churn</th>\n",
       "      <th>genero</th>\n",
       "      <th>senior</th>\n",
       "      <th>parceiro</th>\n",
       "      <th>dependentes</th>\n",
       "      <th>tempo_permanencia</th>\n",
       "      <th>servico_telefone</th>\n",
       "      <th>multiplas_linhas</th>\n",
       "      <th>servico_internet</th>\n",
       "      <th>seguranca_online</th>\n",
       "      <th>backup_online</th>\n",
       "      <th>protecao_dispositivo</th>\n",
       "      <th>suporte_tecnico</th>\n",
       "      <th>streaming_TV</th>\n",
       "      <th>streaming_filmes</th>\n",
       "      <th>contrato</th>\n",
       "      <th>fatura_online</th>\n",
       "      <th>metodo_pagamento</th>\n",
       "      <th>gastos_mensais</th>\n",
       "      <th>gastos_totais</th>\n",
       "      <th>gastos_diarios</th>\n",
       "    </tr>\n",
       "  </thead>\n",
       "  <tbody>\n",
       "    <tr>\n",
       "      <th>0</th>\n",
       "      <td>0002-ORFBO</td>\n",
       "      <td>Não</td>\n",
       "      <td>Feminino</td>\n",
       "      <td>Não</td>\n",
       "      <td>Sim</td>\n",
       "      <td>Sim</td>\n",
       "      <td>9</td>\n",
       "      <td>Sim</td>\n",
       "      <td>Não</td>\n",
       "      <td>DSL</td>\n",
       "      <td>Não</td>\n",
       "      <td>Sim</td>\n",
       "      <td>Não</td>\n",
       "      <td>Sim</td>\n",
       "      <td>Sim</td>\n",
       "      <td>Não</td>\n",
       "      <td>Um ano</td>\n",
       "      <td>Sim</td>\n",
       "      <td>Cheque</td>\n",
       "      <td>65.6</td>\n",
       "      <td>593.30</td>\n",
       "      <td>2.186667</td>\n",
       "    </tr>\n",
       "    <tr>\n",
       "      <th>1</th>\n",
       "      <td>0003-MKNFE</td>\n",
       "      <td>Não</td>\n",
       "      <td>Masculino</td>\n",
       "      <td>Não</td>\n",
       "      <td>Não</td>\n",
       "      <td>Não</td>\n",
       "      <td>9</td>\n",
       "      <td>Sim</td>\n",
       "      <td>Sim</td>\n",
       "      <td>DSL</td>\n",
       "      <td>Não</td>\n",
       "      <td>Não</td>\n",
       "      <td>Não</td>\n",
       "      <td>Não</td>\n",
       "      <td>Não</td>\n",
       "      <td>Sim</td>\n",
       "      <td>Mensal</td>\n",
       "      <td>Não</td>\n",
       "      <td>Cheque</td>\n",
       "      <td>59.9</td>\n",
       "      <td>542.40</td>\n",
       "      <td>1.996667</td>\n",
       "    </tr>\n",
       "    <tr>\n",
       "      <th>2</th>\n",
       "      <td>0004-TLHLJ</td>\n",
       "      <td>Sim</td>\n",
       "      <td>Masculino</td>\n",
       "      <td>Não</td>\n",
       "      <td>Não</td>\n",
       "      <td>Não</td>\n",
       "      <td>4</td>\n",
       "      <td>Sim</td>\n",
       "      <td>Não</td>\n",
       "      <td>Fibra Óptica</td>\n",
       "      <td>Não</td>\n",
       "      <td>Não</td>\n",
       "      <td>Sim</td>\n",
       "      <td>Não</td>\n",
       "      <td>Não</td>\n",
       "      <td>Não</td>\n",
       "      <td>Mensal</td>\n",
       "      <td>Sim</td>\n",
       "      <td>Cheque eletrônico</td>\n",
       "      <td>73.9</td>\n",
       "      <td>280.85</td>\n",
       "      <td>2.463333</td>\n",
       "    </tr>\n",
       "    <tr>\n",
       "      <th>3</th>\n",
       "      <td>0011-IGKFF</td>\n",
       "      <td>Sim</td>\n",
       "      <td>Masculino</td>\n",
       "      <td>Sim</td>\n",
       "      <td>Sim</td>\n",
       "      <td>Não</td>\n",
       "      <td>13</td>\n",
       "      <td>Sim</td>\n",
       "      <td>Não</td>\n",
       "      <td>Fibra Óptica</td>\n",
       "      <td>Não</td>\n",
       "      <td>Sim</td>\n",
       "      <td>Sim</td>\n",
       "      <td>Não</td>\n",
       "      <td>Sim</td>\n",
       "      <td>Sim</td>\n",
       "      <td>Mensal</td>\n",
       "      <td>Sim</td>\n",
       "      <td>Cheque eletrônico</td>\n",
       "      <td>98.0</td>\n",
       "      <td>1237.85</td>\n",
       "      <td>3.266667</td>\n",
       "    </tr>\n",
       "    <tr>\n",
       "      <th>4</th>\n",
       "      <td>0013-EXCHZ</td>\n",
       "      <td>Sim</td>\n",
       "      <td>Feminino</td>\n",
       "      <td>Sim</td>\n",
       "      <td>Sim</td>\n",
       "      <td>Não</td>\n",
       "      <td>3</td>\n",
       "      <td>Sim</td>\n",
       "      <td>Não</td>\n",
       "      <td>Fibra Óptica</td>\n",
       "      <td>Não</td>\n",
       "      <td>Não</td>\n",
       "      <td>Não</td>\n",
       "      <td>Sim</td>\n",
       "      <td>Sim</td>\n",
       "      <td>Não</td>\n",
       "      <td>Mensal</td>\n",
       "      <td>Sim</td>\n",
       "      <td>Cheque</td>\n",
       "      <td>83.9</td>\n",
       "      <td>267.40</td>\n",
       "      <td>2.796667</td>\n",
       "    </tr>\n",
       "  </tbody>\n",
       "</table>\n",
       "</div>"
      ],
      "text/plain": [
       "   ID_cliente churn     genero senior parceiro dependentes  tempo_permanencia  \\\n",
       "0  0002-ORFBO   Não   Feminino    Não      Sim         Sim                  9   \n",
       "1  0003-MKNFE   Não  Masculino    Não      Não         Não                  9   \n",
       "2  0004-TLHLJ   Sim  Masculino    Não      Não         Não                  4   \n",
       "3  0011-IGKFF   Sim  Masculino    Sim      Sim         Não                 13   \n",
       "4  0013-EXCHZ   Sim   Feminino    Sim      Sim         Não                  3   \n",
       "\n",
       "  servico_telefone multiplas_linhas servico_internet seguranca_online  \\\n",
       "0              Sim              Não              DSL              Não   \n",
       "1              Sim              Sim              DSL              Não   \n",
       "2              Sim              Não     Fibra Óptica              Não   \n",
       "3              Sim              Não     Fibra Óptica              Não   \n",
       "4              Sim              Não     Fibra Óptica              Não   \n",
       "\n",
       "  backup_online protecao_dispositivo suporte_tecnico streaming_TV  \\\n",
       "0           Sim                  Não             Sim          Sim   \n",
       "1           Não                  Não             Não          Não   \n",
       "2           Não                  Sim             Não          Não   \n",
       "3           Sim                  Sim             Não          Sim   \n",
       "4           Não                  Não             Sim          Sim   \n",
       "\n",
       "  streaming_filmes contrato fatura_online   metodo_pagamento  gastos_mensais  \\\n",
       "0              Não   Um ano           Sim             Cheque            65.6   \n",
       "1              Sim   Mensal           Não             Cheque            59.9   \n",
       "2              Não   Mensal           Sim  Cheque eletrônico            73.9   \n",
       "3              Sim   Mensal           Sim  Cheque eletrônico            98.0   \n",
       "4              Não   Mensal           Sim             Cheque            83.9   \n",
       "\n",
       "   gastos_totais  gastos_diarios  \n",
       "0         593.30        2.186667  \n",
       "1         542.40        1.996667  \n",
       "2         280.85        2.463333  \n",
       "3        1237.85        3.266667  \n",
       "4         267.40        2.796667  "
      ]
     },
     "execution_count": 90,
     "metadata": {},
     "output_type": "execute_result"
    }
   ],
   "source": [
    "dados.head()"
   ]
  },
  {
   "cell_type": "markdown",
   "metadata": {},
   "source": [
    "Alterando posição da coluna de média de gastos diária."
   ]
  },
  {
   "cell_type": "code",
   "execution_count": 91,
   "metadata": {},
   "outputs": [
    {
     "data": {
      "text/html": [
       "<div>\n",
       "<style scoped>\n",
       "    .dataframe tbody tr th:only-of-type {\n",
       "        vertical-align: middle;\n",
       "    }\n",
       "\n",
       "    .dataframe tbody tr th {\n",
       "        vertical-align: top;\n",
       "    }\n",
       "\n",
       "    .dataframe thead th {\n",
       "        text-align: right;\n",
       "    }\n",
       "</style>\n",
       "<table border=\"1\" class=\"dataframe\">\n",
       "  <thead>\n",
       "    <tr style=\"text-align: right;\">\n",
       "      <th></th>\n",
       "      <th>ID_cliente</th>\n",
       "      <th>churn</th>\n",
       "      <th>genero</th>\n",
       "      <th>senior</th>\n",
       "      <th>parceiro</th>\n",
       "      <th>dependentes</th>\n",
       "      <th>tempo_permanencia</th>\n",
       "      <th>servico_telefone</th>\n",
       "      <th>multiplas_linhas</th>\n",
       "      <th>servico_internet</th>\n",
       "      <th>seguranca_online</th>\n",
       "      <th>backup_online</th>\n",
       "      <th>protecao_dispositivo</th>\n",
       "      <th>suporte_tecnico</th>\n",
       "      <th>streaming_TV</th>\n",
       "      <th>streaming_filmes</th>\n",
       "      <th>contrato</th>\n",
       "      <th>fatura_online</th>\n",
       "      <th>metodo_pagamento</th>\n",
       "      <th>gastos_diarios</th>\n",
       "      <th>gastos_mensais</th>\n",
       "      <th>gastos_totais</th>\n",
       "    </tr>\n",
       "  </thead>\n",
       "  <tbody>\n",
       "    <tr>\n",
       "      <th>0</th>\n",
       "      <td>0002-ORFBO</td>\n",
       "      <td>Não</td>\n",
       "      <td>Feminino</td>\n",
       "      <td>Não</td>\n",
       "      <td>Sim</td>\n",
       "      <td>Sim</td>\n",
       "      <td>9</td>\n",
       "      <td>Sim</td>\n",
       "      <td>Não</td>\n",
       "      <td>DSL</td>\n",
       "      <td>Não</td>\n",
       "      <td>Sim</td>\n",
       "      <td>Não</td>\n",
       "      <td>Sim</td>\n",
       "      <td>Sim</td>\n",
       "      <td>Não</td>\n",
       "      <td>Um ano</td>\n",
       "      <td>Sim</td>\n",
       "      <td>Cheque</td>\n",
       "      <td>2.186667</td>\n",
       "      <td>65.6</td>\n",
       "      <td>593.30</td>\n",
       "    </tr>\n",
       "    <tr>\n",
       "      <th>1</th>\n",
       "      <td>0003-MKNFE</td>\n",
       "      <td>Não</td>\n",
       "      <td>Masculino</td>\n",
       "      <td>Não</td>\n",
       "      <td>Não</td>\n",
       "      <td>Não</td>\n",
       "      <td>9</td>\n",
       "      <td>Sim</td>\n",
       "      <td>Sim</td>\n",
       "      <td>DSL</td>\n",
       "      <td>Não</td>\n",
       "      <td>Não</td>\n",
       "      <td>Não</td>\n",
       "      <td>Não</td>\n",
       "      <td>Não</td>\n",
       "      <td>Sim</td>\n",
       "      <td>Mensal</td>\n",
       "      <td>Não</td>\n",
       "      <td>Cheque</td>\n",
       "      <td>1.996667</td>\n",
       "      <td>59.9</td>\n",
       "      <td>542.40</td>\n",
       "    </tr>\n",
       "    <tr>\n",
       "      <th>2</th>\n",
       "      <td>0004-TLHLJ</td>\n",
       "      <td>Sim</td>\n",
       "      <td>Masculino</td>\n",
       "      <td>Não</td>\n",
       "      <td>Não</td>\n",
       "      <td>Não</td>\n",
       "      <td>4</td>\n",
       "      <td>Sim</td>\n",
       "      <td>Não</td>\n",
       "      <td>Fibra Óptica</td>\n",
       "      <td>Não</td>\n",
       "      <td>Não</td>\n",
       "      <td>Sim</td>\n",
       "      <td>Não</td>\n",
       "      <td>Não</td>\n",
       "      <td>Não</td>\n",
       "      <td>Mensal</td>\n",
       "      <td>Sim</td>\n",
       "      <td>Cheque eletrônico</td>\n",
       "      <td>2.463333</td>\n",
       "      <td>73.9</td>\n",
       "      <td>280.85</td>\n",
       "    </tr>\n",
       "    <tr>\n",
       "      <th>3</th>\n",
       "      <td>0011-IGKFF</td>\n",
       "      <td>Sim</td>\n",
       "      <td>Masculino</td>\n",
       "      <td>Sim</td>\n",
       "      <td>Sim</td>\n",
       "      <td>Não</td>\n",
       "      <td>13</td>\n",
       "      <td>Sim</td>\n",
       "      <td>Não</td>\n",
       "      <td>Fibra Óptica</td>\n",
       "      <td>Não</td>\n",
       "      <td>Sim</td>\n",
       "      <td>Sim</td>\n",
       "      <td>Não</td>\n",
       "      <td>Sim</td>\n",
       "      <td>Sim</td>\n",
       "      <td>Mensal</td>\n",
       "      <td>Sim</td>\n",
       "      <td>Cheque eletrônico</td>\n",
       "      <td>3.266667</td>\n",
       "      <td>98.0</td>\n",
       "      <td>1237.85</td>\n",
       "    </tr>\n",
       "    <tr>\n",
       "      <th>4</th>\n",
       "      <td>0013-EXCHZ</td>\n",
       "      <td>Sim</td>\n",
       "      <td>Feminino</td>\n",
       "      <td>Sim</td>\n",
       "      <td>Sim</td>\n",
       "      <td>Não</td>\n",
       "      <td>3</td>\n",
       "      <td>Sim</td>\n",
       "      <td>Não</td>\n",
       "      <td>Fibra Óptica</td>\n",
       "      <td>Não</td>\n",
       "      <td>Não</td>\n",
       "      <td>Não</td>\n",
       "      <td>Sim</td>\n",
       "      <td>Sim</td>\n",
       "      <td>Não</td>\n",
       "      <td>Mensal</td>\n",
       "      <td>Sim</td>\n",
       "      <td>Cheque</td>\n",
       "      <td>2.796667</td>\n",
       "      <td>83.9</td>\n",
       "      <td>267.40</td>\n",
       "    </tr>\n",
       "  </tbody>\n",
       "</table>\n",
       "</div>"
      ],
      "text/plain": [
       "   ID_cliente churn     genero senior parceiro dependentes  tempo_permanencia  \\\n",
       "0  0002-ORFBO   Não   Feminino    Não      Sim         Sim                  9   \n",
       "1  0003-MKNFE   Não  Masculino    Não      Não         Não                  9   \n",
       "2  0004-TLHLJ   Sim  Masculino    Não      Não         Não                  4   \n",
       "3  0011-IGKFF   Sim  Masculino    Sim      Sim         Não                 13   \n",
       "4  0013-EXCHZ   Sim   Feminino    Sim      Sim         Não                  3   \n",
       "\n",
       "  servico_telefone multiplas_linhas servico_internet seguranca_online  \\\n",
       "0              Sim              Não              DSL              Não   \n",
       "1              Sim              Sim              DSL              Não   \n",
       "2              Sim              Não     Fibra Óptica              Não   \n",
       "3              Sim              Não     Fibra Óptica              Não   \n",
       "4              Sim              Não     Fibra Óptica              Não   \n",
       "\n",
       "  backup_online protecao_dispositivo suporte_tecnico streaming_TV  \\\n",
       "0           Sim                  Não             Sim          Sim   \n",
       "1           Não                  Não             Não          Não   \n",
       "2           Não                  Sim             Não          Não   \n",
       "3           Sim                  Sim             Não          Sim   \n",
       "4           Não                  Não             Sim          Sim   \n",
       "\n",
       "  streaming_filmes contrato fatura_online   metodo_pagamento  gastos_diarios  \\\n",
       "0              Não   Um ano           Sim             Cheque        2.186667   \n",
       "1              Sim   Mensal           Não             Cheque        1.996667   \n",
       "2              Não   Mensal           Sim  Cheque eletrônico        2.463333   \n",
       "3              Sim   Mensal           Sim  Cheque eletrônico        3.266667   \n",
       "4              Não   Mensal           Sim             Cheque        2.796667   \n",
       "\n",
       "   gastos_mensais  gastos_totais  \n",
       "0            65.6         593.30  \n",
       "1            59.9         542.40  \n",
       "2            73.9         280.85  \n",
       "3            98.0        1237.85  \n",
       "4            83.9         267.40  "
      ]
     },
     "execution_count": 91,
     "metadata": {},
     "output_type": "execute_result"
    }
   ],
   "source": [
    "dados.insert(19, 'gastos_diarios', dados.pop('gastos_diarios'))\n",
    "dados.head()"
   ]
  },
  {
   "cell_type": "markdown",
   "metadata": {},
   "source": [
    "## Observações finais."
   ]
  },
  {
   "cell_type": "markdown",
   "metadata": {},
   "source": [
    "A tabelas com variáveis categóricas textuais é ótima para a interpretação humana. Porém para os processamentos de máquina textos não são fáceis de processar. Assim todas as variáveis categóricas textuais, do tipo binárias (sim ou não, feminino ou masculino) serão convertidas em variáveis categóricas binárias (0 ou 1)."
   ]
  },
  {
   "cell_type": "markdown",
   "metadata": {},
   "source": [
    "Criação do mapa de conversões"
   ]
  },
  {
   "cell_type": "code",
   "execution_count": 92,
   "metadata": {},
   "outputs": [
    {
     "data": {
      "text/html": [
       "<div>\n",
       "<style scoped>\n",
       "    .dataframe tbody tr th:only-of-type {\n",
       "        vertical-align: middle;\n",
       "    }\n",
       "\n",
       "    .dataframe tbody tr th {\n",
       "        vertical-align: top;\n",
       "    }\n",
       "\n",
       "    .dataframe thead th {\n",
       "        text-align: right;\n",
       "    }\n",
       "</style>\n",
       "<table border=\"1\" class=\"dataframe\">\n",
       "  <thead>\n",
       "    <tr style=\"text-align: right;\">\n",
       "      <th></th>\n",
       "      <th>ID_cliente</th>\n",
       "      <th>churn</th>\n",
       "      <th>genero</th>\n",
       "      <th>senior</th>\n",
       "      <th>parceiro</th>\n",
       "      <th>dependentes</th>\n",
       "      <th>tempo_permanencia</th>\n",
       "      <th>servico_telefone</th>\n",
       "      <th>multiplas_linhas</th>\n",
       "      <th>servico_internet</th>\n",
       "      <th>seguranca_online</th>\n",
       "      <th>backup_online</th>\n",
       "      <th>protecao_dispositivo</th>\n",
       "      <th>suporte_tecnico</th>\n",
       "      <th>streaming_TV</th>\n",
       "      <th>streaming_filmes</th>\n",
       "      <th>contrato</th>\n",
       "      <th>fatura_online</th>\n",
       "      <th>metodo_pagamento</th>\n",
       "      <th>gastos_diarios</th>\n",
       "      <th>gastos_mensais</th>\n",
       "      <th>gastos_totais</th>\n",
       "    </tr>\n",
       "  </thead>\n",
       "  <tbody>\n",
       "    <tr>\n",
       "      <th>0</th>\n",
       "      <td>0002-ORFBO</td>\n",
       "      <td>0</td>\n",
       "      <td>1</td>\n",
       "      <td>0</td>\n",
       "      <td>1</td>\n",
       "      <td>1</td>\n",
       "      <td>9</td>\n",
       "      <td>1</td>\n",
       "      <td>0</td>\n",
       "      <td>DSL</td>\n",
       "      <td>0</td>\n",
       "      <td>1</td>\n",
       "      <td>0</td>\n",
       "      <td>1</td>\n",
       "      <td>1</td>\n",
       "      <td>0</td>\n",
       "      <td>Um ano</td>\n",
       "      <td>1</td>\n",
       "      <td>Cheque</td>\n",
       "      <td>2.186667</td>\n",
       "      <td>65.6</td>\n",
       "      <td>593.30</td>\n",
       "    </tr>\n",
       "    <tr>\n",
       "      <th>1</th>\n",
       "      <td>0003-MKNFE</td>\n",
       "      <td>0</td>\n",
       "      <td>0</td>\n",
       "      <td>0</td>\n",
       "      <td>0</td>\n",
       "      <td>0</td>\n",
       "      <td>9</td>\n",
       "      <td>1</td>\n",
       "      <td>1</td>\n",
       "      <td>DSL</td>\n",
       "      <td>0</td>\n",
       "      <td>0</td>\n",
       "      <td>0</td>\n",
       "      <td>0</td>\n",
       "      <td>0</td>\n",
       "      <td>1</td>\n",
       "      <td>Mensal</td>\n",
       "      <td>0</td>\n",
       "      <td>Cheque</td>\n",
       "      <td>1.996667</td>\n",
       "      <td>59.9</td>\n",
       "      <td>542.40</td>\n",
       "    </tr>\n",
       "    <tr>\n",
       "      <th>2</th>\n",
       "      <td>0004-TLHLJ</td>\n",
       "      <td>1</td>\n",
       "      <td>0</td>\n",
       "      <td>0</td>\n",
       "      <td>0</td>\n",
       "      <td>0</td>\n",
       "      <td>4</td>\n",
       "      <td>1</td>\n",
       "      <td>0</td>\n",
       "      <td>Fibra Óptica</td>\n",
       "      <td>0</td>\n",
       "      <td>0</td>\n",
       "      <td>1</td>\n",
       "      <td>0</td>\n",
       "      <td>0</td>\n",
       "      <td>0</td>\n",
       "      <td>Mensal</td>\n",
       "      <td>1</td>\n",
       "      <td>Cheque eletrônico</td>\n",
       "      <td>2.463333</td>\n",
       "      <td>73.9</td>\n",
       "      <td>280.85</td>\n",
       "    </tr>\n",
       "    <tr>\n",
       "      <th>3</th>\n",
       "      <td>0011-IGKFF</td>\n",
       "      <td>1</td>\n",
       "      <td>0</td>\n",
       "      <td>1</td>\n",
       "      <td>1</td>\n",
       "      <td>0</td>\n",
       "      <td>13</td>\n",
       "      <td>1</td>\n",
       "      <td>0</td>\n",
       "      <td>Fibra Óptica</td>\n",
       "      <td>0</td>\n",
       "      <td>1</td>\n",
       "      <td>1</td>\n",
       "      <td>0</td>\n",
       "      <td>1</td>\n",
       "      <td>1</td>\n",
       "      <td>Mensal</td>\n",
       "      <td>1</td>\n",
       "      <td>Cheque eletrônico</td>\n",
       "      <td>3.266667</td>\n",
       "      <td>98.0</td>\n",
       "      <td>1237.85</td>\n",
       "    </tr>\n",
       "    <tr>\n",
       "      <th>4</th>\n",
       "      <td>0013-EXCHZ</td>\n",
       "      <td>1</td>\n",
       "      <td>1</td>\n",
       "      <td>1</td>\n",
       "      <td>1</td>\n",
       "      <td>0</td>\n",
       "      <td>3</td>\n",
       "      <td>1</td>\n",
       "      <td>0</td>\n",
       "      <td>Fibra Óptica</td>\n",
       "      <td>0</td>\n",
       "      <td>0</td>\n",
       "      <td>0</td>\n",
       "      <td>1</td>\n",
       "      <td>1</td>\n",
       "      <td>0</td>\n",
       "      <td>Mensal</td>\n",
       "      <td>1</td>\n",
       "      <td>Cheque</td>\n",
       "      <td>2.796667</td>\n",
       "      <td>83.9</td>\n",
       "      <td>267.40</td>\n",
       "    </tr>\n",
       "  </tbody>\n",
       "</table>\n",
       "</div>"
      ],
      "text/plain": [
       "   ID_cliente  churn  genero  senior  parceiro  dependentes  \\\n",
       "0  0002-ORFBO      0       1       0         1            1   \n",
       "1  0003-MKNFE      0       0       0         0            0   \n",
       "2  0004-TLHLJ      1       0       0         0            0   \n",
       "3  0011-IGKFF      1       0       1         1            0   \n",
       "4  0013-EXCHZ      1       1       1         1            0   \n",
       "\n",
       "   tempo_permanencia  servico_telefone  multiplas_linhas servico_internet  \\\n",
       "0                  9                 1                 0              DSL   \n",
       "1                  9                 1                 1              DSL   \n",
       "2                  4                 1                 0     Fibra Óptica   \n",
       "3                 13                 1                 0     Fibra Óptica   \n",
       "4                  3                 1                 0     Fibra Óptica   \n",
       "\n",
       "   seguranca_online  backup_online  protecao_dispositivo  suporte_tecnico  \\\n",
       "0                 0              1                     0                1   \n",
       "1                 0              0                     0                0   \n",
       "2                 0              0                     1                0   \n",
       "3                 0              1                     1                0   \n",
       "4                 0              0                     0                1   \n",
       "\n",
       "   streaming_TV  streaming_filmes contrato  fatura_online   metodo_pagamento  \\\n",
       "0             1                 0   Um ano              1             Cheque   \n",
       "1             0                 1   Mensal              0             Cheque   \n",
       "2             0                 0   Mensal              1  Cheque eletrônico   \n",
       "3             1                 1   Mensal              1  Cheque eletrônico   \n",
       "4             1                 0   Mensal              1             Cheque   \n",
       "\n",
       "   gastos_diarios  gastos_mensais  gastos_totais  \n",
       "0        2.186667            65.6         593.30  \n",
       "1        1.996667            59.9         542.40  \n",
       "2        2.463333            73.9         280.85  \n",
       "3        3.266667            98.0        1237.85  \n",
       "4        2.796667            83.9         267.40  "
      ]
     },
     "execution_count": 92,
     "metadata": {},
     "output_type": "execute_result"
    }
   ],
   "source": [
    "mapa_binarios = {\n",
    "    'Sim' : 1,\n",
    "    'Não' : 0,\n",
    "    'Feminino' : 1,\n",
    "    'Masculino' : 0,\n",
    "}\n",
    "colunas_binarias = ['churn', 'genero', 'senior', 'parceiro', 'dependentes',\n",
    "                    'servico_telefone', 'multiplas_linhas', 'seguranca_online',\n",
    "                    'backup_online', 'protecao_dispositivo', 'suporte_tecnico',\n",
    "                    'streaming_TV', 'streaming_filmes', 'fatura_online', ]\n",
    "\n",
    "dados[colunas_binarias] = dados[colunas_binarias].replace(mapa_binarios)\n",
    "dados.head()\n"
   ]
  },
  {
   "cell_type": "markdown",
   "metadata": {},
   "source": [
    "Exportando arquivo csv"
   ]
  },
  {
   "cell_type": "code",
   "execution_count": 93,
   "metadata": {},
   "outputs": [],
   "source": [
    "dados.to_csv('dados_clientes_alura_voz.csv', index=False)"
   ]
  },
  {
   "cell_type": "code",
   "execution_count": null,
   "metadata": {},
   "outputs": [],
   "source": []
  }
 ],
 "metadata": {
  "interpreter": {
   "hash": "f8982e1f4ab427bb87d5be74831db1f094ba5a856f389ce2aee8b2f4fb023e4a"
  },
  "kernelspec": {
   "display_name": "Python 3.8.10 ('base')",
   "language": "python",
   "name": "python3"
  },
  "language_info": {
   "codemirror_mode": {
    "name": "ipython",
    "version": 3
   },
   "file_extension": ".py",
   "mimetype": "text/x-python",
   "name": "python",
   "nbconvert_exporter": "python",
   "pygments_lexer": "ipython3",
   "version": "3.8.10"
  },
  "orig_nbformat": 4
 },
 "nbformat": 4,
 "nbformat_minor": 2
}
